{
 "cells": [
  {
   "cell_type": "markdown",
   "id": "c5fa7351",
   "metadata": {},
   "source": [
    "# Socrata API\n",
    "\n",
    "\n",
    "For this project you will use `requests` package and the SODA API to access data through https://data.nashville.gov/. We'll start out with something familiar, the [Top 500 Monthly Searches](https://data.nashville.gov/Public-Services/Nashville-gov-Top-500-Monthly-Searches/fuaa-r5cm), then pull in different datasets further on. You will make different API requests for each individual question.\n",
    "\n",
    "Each dataset has its own api endpoint. You can find the endpoint for a dataset by clicking on the `API` button in the top right of the dataset screen, then copying the `API Endpoint`. The default output is `JSON`, which you can leave unchanged:\n",
    "\n",
    "![api_endpoint](assets/api_endpoint.png)\n",
    "\n",
    "Each API is different, so it is very important to read the documentation for each API to know how to use it properly. The documentation for the SODA API is [here](https://dev.socrata.com/consumers/getting-started.html). It is **HIGHLY RECOMMENDED** that you read the documentation before making any requests, then do deeper dives into specific use cases when questions require. NOTE that the examples in the documentation don't use the `requests` package. You will need to look at the examples and figure out which things go in the `url` and which things go in the `params`.\n",
    "\n",
    "\n",
    "#### Questions  \n",
    "\n",
    "1. Make an API request that returns the months where \"fire\" was searched in 2016. Which month had the most searches?  \n",
    "\n",
    "\n",
    "2. Make an API request that returns all the times a query was run more than 100 times in a month. How many times did this occur?  \n",
    "\n",
    "\n",
    "3. Make another API request that returns all the times \"codes\" was searched more than 100 times in a month. How many times did this occur?  \n",
    "\n",
    "\n",
    "4. Make an API request that returns the entire Top 500 Monthly Searches dataset. Make a chart that shows the number of times \"maps\" was searched in a month across the entire time frame.\n",
    "\n",
    "\n",
    "#### Stretch Questions\n",
    "\n",
    "5. Make an API request to pull back all the data from [hubNashville (311) Service Requests](https://data.nashville.gov/Public-Services/hubNashville-311-Service-Requests/7qhx-rexh) (check to see how many rows you can return in a single request). Compare it to the Top 500 Monthly Searches data set. What do you observe? (This is open-ended, there isn't a specific answer for this one)  \n",
    "\n",
    "\n",
    "6. Find 2 new data sets on data.nashville.gov, make API requests to pull the data, and do an analysis that combines the data sets.  \n",
    "\n",
    "\n",
    "#### Bonus\n",
    "\n",
    "7. Socrata is used by many cities, states, and federal organizations. Find additional datasets through [Socrata's Open Data Network](http://www.opendatanetwork.com/) and do an analysis comparing them to Nashville or each other.\n",
    "\n",
    "\n",
    "#### Show and Tell\n",
    "At the end of the project you will present some general insights, visualizations, or other finding from any part of the project. This will be informal (showing your Jupyter notebook is fine, no need to make a powerpoint) and should be no more than 5 min. If you had challenges making your visualizations, then it is fine to discuss your experience working with the API and what you were intending to show.\n"
   ]
  },
  {
   "cell_type": "code",
   "execution_count": 1,
   "id": "906b5221",
   "metadata": {},
   "outputs": [],
   "source": [
    "import requests\n",
    "import matplotlib.pyplot as plt\n",
    "import pandas as pd"
   ]
  },
  {
   "cell_type": "markdown",
   "id": "9bc51a36",
   "metadata": {},
   "source": [
    "### Question 1\n",
    "Make an API request that returns the months where \"fire\" was searched in 2016. Which month had the most searches?"
   ]
  },
  {
   "cell_type": "code",
   "execution_count": 67,
   "id": "a9b1db58",
   "metadata": {},
   "outputs": [],
   "source": [
    "fire_16_endpoint = 'https://data.nashville.gov/resource/fuaa-r5cm.json?year=2016&query_text=fire'\n",
    "response_q1 = requests.get(fire_16_endpoint)"
   ]
  },
  {
   "cell_type": "code",
   "execution_count": 68,
   "id": "812ca1a8",
   "metadata": {},
   "outputs": [
    {
     "data": {
      "text/plain": [
       "<Response [200]>"
      ]
     },
     "execution_count": 68,
     "metadata": {},
     "output_type": "execute_result"
    }
   ],
   "source": [
    "response_q1"
   ]
  },
  {
   "cell_type": "code",
   "execution_count": 69,
   "id": "3186c9d3",
   "metadata": {
    "scrolled": true
   },
   "outputs": [
    {
     "data": {
      "text/plain": [
       "'[{\"month_name\":\"January\",\"year\":\"2016\",\"query_count\":\"19\",\"query_text\":\"fire\"}\\n,{\"month_name\":\"February\",\"year\":\"2016\",\"query_count\":\"35\",\"query_text\":\"fire\"}\\n,{\"month_name\":\"March\",\"year\":\"2016\",\"query_count\":\"32\",\"query_text\":\"fire\"}\\n,{\"month_name\":\"April\",\"year\":\"2016\",\"query_count\":\"26\",\"query_text\":\"fire\"}\\n,{\"month_name\":\"May\",\"year\":\"2016\",\"query_count\":\"24\",\"query_text\":\"fire\"}\\n,{\"month_name\":\"June\",\"year\":\"2016\",\"query_count\":\"31\",\"query_text\":\"fire\"}\\n,{\"month_name\":\"July\",\"year\":\"2016\",\"query_count\":\"24\",\"query_text\":\"fire\"}\\n,{\"month_name\":\"August\",\"year\":\"2016\",\"query_count\":\"47\",\"query_text\":\"fire\"}\\n,{\"month_name\":\"September\",\"year\":\"2016\",\"query_count\":\"36\",\"query_text\":\"fire\"}\\n,{\"month_name\":\"October\",\"year\":\"2016\",\"query_count\":\"38\",\"query_text\":\"fire\"}\\n,{\"month_name\":\"November\",\"year\":\"2016\",\"query_count\":\"32\",\"query_text\":\"fire\"}\\n,{\"month_name\":\"December\",\"year\":\"2016\",\"query_count\":\"38\",\"query_text\":\"fire\"}]\\n'"
      ]
     },
     "execution_count": 69,
     "metadata": {},
     "output_type": "execute_result"
    }
   ],
   "source": [
    "response.text"
   ]
  },
  {
   "cell_type": "code",
   "execution_count": 84,
   "id": "5dcaaed1",
   "metadata": {
    "scrolled": true
   },
   "outputs": [
    {
     "data": {
      "text/plain": [
       "[{'month_name': 'January',\n",
       "  'year': '2016',\n",
       "  'query_count': '19',\n",
       "  'query_text': 'fire'},\n",
       " {'month_name': 'February',\n",
       "  'year': '2016',\n",
       "  'query_count': '35',\n",
       "  'query_text': 'fire'},\n",
       " {'month_name': 'March',\n",
       "  'year': '2016',\n",
       "  'query_count': '32',\n",
       "  'query_text': 'fire'},\n",
       " {'month_name': 'April',\n",
       "  'year': '2016',\n",
       "  'query_count': '26',\n",
       "  'query_text': 'fire'},\n",
       " {'month_name': 'May',\n",
       "  'year': '2016',\n",
       "  'query_count': '24',\n",
       "  'query_text': 'fire'},\n",
       " {'month_name': 'June',\n",
       "  'year': '2016',\n",
       "  'query_count': '31',\n",
       "  'query_text': 'fire'},\n",
       " {'month_name': 'July',\n",
       "  'year': '2016',\n",
       "  'query_count': '24',\n",
       "  'query_text': 'fire'},\n",
       " {'month_name': 'August',\n",
       "  'year': '2016',\n",
       "  'query_count': '47',\n",
       "  'query_text': 'fire'},\n",
       " {'month_name': 'September',\n",
       "  'year': '2016',\n",
       "  'query_count': '36',\n",
       "  'query_text': 'fire'},\n",
       " {'month_name': 'October',\n",
       "  'year': '2016',\n",
       "  'query_count': '38',\n",
       "  'query_text': 'fire'},\n",
       " {'month_name': 'November',\n",
       "  'year': '2016',\n",
       "  'query_count': '32',\n",
       "  'query_text': 'fire'},\n",
       " {'month_name': 'December',\n",
       "  'year': '2016',\n",
       "  'query_count': '38',\n",
       "  'query_text': 'fire'}]"
      ]
     },
     "execution_count": 84,
     "metadata": {},
     "output_type": "execute_result"
    }
   ],
   "source": [
    "# kaboodle_dict = response4.json()\n",
    "# kaboodle = pd.DataFrame.from_dict(kaboodle_dict)\n",
    "\n",
    "api_dict = response_q1.json()\n",
    "api_dict"
   ]
  },
  {
   "cell_type": "code",
   "execution_count": 85,
   "id": "72d27cfc",
   "metadata": {
    "scrolled": true
   },
   "outputs": [
    {
     "data": {
      "text/html": [
       "<div>\n",
       "<style scoped>\n",
       "    .dataframe tbody tr th:only-of-type {\n",
       "        vertical-align: middle;\n",
       "    }\n",
       "\n",
       "    .dataframe tbody tr th {\n",
       "        vertical-align: top;\n",
       "    }\n",
       "\n",
       "    .dataframe thead th {\n",
       "        text-align: right;\n",
       "    }\n",
       "</style>\n",
       "<table border=\"1\" class=\"dataframe\">\n",
       "  <thead>\n",
       "    <tr style=\"text-align: right;\">\n",
       "      <th></th>\n",
       "      <th>month_name</th>\n",
       "      <th>year</th>\n",
       "      <th>query_count</th>\n",
       "      <th>query_text</th>\n",
       "    </tr>\n",
       "  </thead>\n",
       "  <tbody>\n",
       "    <tr>\n",
       "      <th>0</th>\n",
       "      <td>January</td>\n",
       "      <td>2016</td>\n",
       "      <td>19</td>\n",
       "      <td>fire</td>\n",
       "    </tr>\n",
       "    <tr>\n",
       "      <th>1</th>\n",
       "      <td>February</td>\n",
       "      <td>2016</td>\n",
       "      <td>35</td>\n",
       "      <td>fire</td>\n",
       "    </tr>\n",
       "    <tr>\n",
       "      <th>2</th>\n",
       "      <td>March</td>\n",
       "      <td>2016</td>\n",
       "      <td>32</td>\n",
       "      <td>fire</td>\n",
       "    </tr>\n",
       "    <tr>\n",
       "      <th>3</th>\n",
       "      <td>April</td>\n",
       "      <td>2016</td>\n",
       "      <td>26</td>\n",
       "      <td>fire</td>\n",
       "    </tr>\n",
       "    <tr>\n",
       "      <th>4</th>\n",
       "      <td>May</td>\n",
       "      <td>2016</td>\n",
       "      <td>24</td>\n",
       "      <td>fire</td>\n",
       "    </tr>\n",
       "    <tr>\n",
       "      <th>5</th>\n",
       "      <td>June</td>\n",
       "      <td>2016</td>\n",
       "      <td>31</td>\n",
       "      <td>fire</td>\n",
       "    </tr>\n",
       "    <tr>\n",
       "      <th>6</th>\n",
       "      <td>July</td>\n",
       "      <td>2016</td>\n",
       "      <td>24</td>\n",
       "      <td>fire</td>\n",
       "    </tr>\n",
       "    <tr>\n",
       "      <th>7</th>\n",
       "      <td>August</td>\n",
       "      <td>2016</td>\n",
       "      <td>47</td>\n",
       "      <td>fire</td>\n",
       "    </tr>\n",
       "    <tr>\n",
       "      <th>8</th>\n",
       "      <td>September</td>\n",
       "      <td>2016</td>\n",
       "      <td>36</td>\n",
       "      <td>fire</td>\n",
       "    </tr>\n",
       "    <tr>\n",
       "      <th>9</th>\n",
       "      <td>October</td>\n",
       "      <td>2016</td>\n",
       "      <td>38</td>\n",
       "      <td>fire</td>\n",
       "    </tr>\n",
       "    <tr>\n",
       "      <th>10</th>\n",
       "      <td>November</td>\n",
       "      <td>2016</td>\n",
       "      <td>32</td>\n",
       "      <td>fire</td>\n",
       "    </tr>\n",
       "    <tr>\n",
       "      <th>11</th>\n",
       "      <td>December</td>\n",
       "      <td>2016</td>\n",
       "      <td>38</td>\n",
       "      <td>fire</td>\n",
       "    </tr>\n",
       "  </tbody>\n",
       "</table>\n",
       "</div>"
      ],
      "text/plain": [
       "   month_name  year query_count query_text\n",
       "0     January  2016          19       fire\n",
       "1    February  2016          35       fire\n",
       "2       March  2016          32       fire\n",
       "3       April  2016          26       fire\n",
       "4         May  2016          24       fire\n",
       "5        June  2016          31       fire\n",
       "6        July  2016          24       fire\n",
       "7      August  2016          47       fire\n",
       "8   September  2016          36       fire\n",
       "9     October  2016          38       fire\n",
       "10   November  2016          32       fire\n",
       "11   December  2016          38       fire"
      ]
     },
     "execution_count": 85,
     "metadata": {},
     "output_type": "execute_result"
    }
   ],
   "source": [
    "api_df = pd.DataFrame.from_dict(api_dict)\n",
    "api_df"
   ]
  },
  {
   "cell_type": "markdown",
   "id": "8ee88cfd",
   "metadata": {},
   "source": [
    "### Question 2\n",
    "Make an API request that returns all the times a query was run more than 100 times in a month. How many times did this occur?"
   ]
  },
  {
   "cell_type": "code",
   "execution_count": null,
   "id": "f0c794e8",
   "metadata": {},
   "outputs": [],
   "source": [
    "query_100_endpoint = 'https://data.nashville.gov/resource/fuaa-r5cm.json?year=2016&query_text=fire'\n",
    "response_q1 = requests.get(fire_16_endpoint)"
   ]
  }
 ],
 "metadata": {
  "kernelspec": {
   "display_name": "Python 3 (ipykernel)",
   "language": "python",
   "name": "python3"
  },
  "language_info": {
   "codemirror_mode": {
    "name": "ipython",
    "version": 3
   },
   "file_extension": ".py",
   "mimetype": "text/x-python",
   "name": "python",
   "nbconvert_exporter": "python",
   "pygments_lexer": "ipython3",
   "version": "3.9.12"
  }
 },
 "nbformat": 4,
 "nbformat_minor": 5
}
